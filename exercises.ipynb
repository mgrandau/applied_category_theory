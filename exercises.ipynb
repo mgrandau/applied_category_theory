{
 "cells": [
  {
   "cell_type": "markdown",
   "metadata": {},
   "source": [
    "Exercise 1.1. Some terminology: a function $f: \\mathbb{R} \\to \\mathbb{R}$ is said to be\n",
    "1. order-preserving if $x \\leq y$ implies $f(x) \\leq f(y)$, for all $x, y \\in \\mathbb{R}$;\n",
    "1. metric-preserving if $|x − y| = | f (x) − f (y)|$;\n",
    "1. addition-preserving if $f (x + y) = f (x) + f (y)$.\n",
    "\n",
    "For each of the three properties defined above—call it foo—find an f that is foo-\n",
    "preserving and an example of an f that is not foo-preserving. \n"
   ]
  },
  {
   "cell_type": "markdown",
   "metadata": {},
   "source": [
    "Let's clarify what it means for a function to be **order-preserving** and why the examples given demonstrate whether a function is order-preserving or not.\n",
    "\n",
    "### Order-Preserving Definition\n",
    "\n",
    "A function $f: \\mathbb{R} \\to \\mathbb{R}$ is **order-preserving** if, for any two real numbers $x$ and $y$, whenever $x \\leq y$, it also follows that $f(x) \\leq f(y)$.\n",
    "\n",
    "In simpler terms:\n",
    "- If one number is less than or equal to another number, an order-preserving function will ensure that the output of the first number (under the function) is also less than or equal to the output of the second number.\n",
    "\n",
    "### Example of an Order-Preserving Function\n",
    "\n",
    "Consider the function $f(x) = x$.\n",
    "\n",
    "- **Why is $f(x) = x$ order-preserving?**  \n",
    "  If $x \\leq y$, then directly, $f(x) \\leq f(y)$.  \n",
    "  Since the function just outputs the input itself, the order between any two numbers $x$ and $y$ is maintained. Therefore, $f(x) = x$ is order-preserving.\n",
    "\n",
    "### Example of a Function That Is Not Order-Preserving\n",
    "\n",
    "Consider the function \\( f(x) = -x \\).\n",
    "\n",
    "- **Why is $f(x) = -x$ not order-preserving?**  \n",
    "  Let's test this with specific values:\n",
    "  - Choose $x = 1$ and $y = 2$. Clearly, $x \\leq y$ (since $1 \\leq 2$).\n",
    "  - Now compute $f(x)$ and $f(y)$:\n",
    "    $f(x) = -1, f(y) = -2$\n",
    "  - Compare $f(x)$ and $f(y)$:  \n",
    "    $-1 \\not\\leq -2$\n",
    "\n",
    "  Therefore, $f(x) = -x$ does **not** preserve the order because although $1 \\leq 2$, the outputs are $-1$ and $-2$, where $-1$ is **not** less than or equal to $-2$. This violates the condition for being order-preserving. \n"
   ]
  }
 ],
 "metadata": {
  "kernelspec": {
   "display_name": ".venv",
   "language": "python",
   "name": "python3"
  },
  "language_info": {
   "codemirror_mode": {
    "name": "ipython",
    "version": 3
   },
   "file_extension": ".py",
   "mimetype": "text/x-python",
   "name": "python",
   "nbconvert_exporter": "python",
   "pygments_lexer": "ipython3",
   "version": "3.12.3"
  }
 },
 "nbformat": 4,
 "nbformat_minor": 2
}
