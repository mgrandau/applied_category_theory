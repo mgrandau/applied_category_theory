{
 "cells": [
  {
   "cell_type": "markdown",
   "metadata": {},
   "source": [
    "# Generative effects: Orders and adjunctions\n",
    "\n",
    "## More than the sum of their parts\n",
    "### Exercise 1.1. \n",
    "Some terminology: a function $f: \\mathbb{R} \\to \\mathbb{R}$ is said to be\n",
    "1. order-preserving if $x \\leq y$ implies $f(x) \\leq f(y)$, for all $x, y \\in \\mathbb{R}$;\n",
    "1. metric-preserving if $|x − y| = | f (x) − f (y)|$;\n",
    "1. addition-preserving if $f (x + y) = f (x) + f (y)$.\n",
    "\n",
    "For each of the three properties defined above—call it foo—find an f that is foo-\n",
    "preserving and an example of an f that is not foo-preserving. "
   ]
  },
  {
   "cell_type": "markdown",
   "metadata": {},
   "source": [
    "Let's clarify what it means for a function to be **order-preserving** and why the examples given demonstrate whether a function is order-preserving or not.\n",
    "\n",
    "#### Order-Preserving Definition\n",
    "\n",
    "A function $f: \\mathbb{R} \\to \\mathbb{R}$ is **order-preserving** if, for any two real numbers $x$ and $y$, whenever $x \\leq y$, it also follows that $f(x) \\leq f(y)$.\n",
    "\n",
    "In simpler terms:\n",
    "- If one number is less than or equal to another number, an order-preserving function will ensure that the output of the first number (under the function) is also less than or equal to the output of the second number."
   ]
  },
  {
   "cell_type": "code",
   "execution_count": 50,
   "metadata": {},
   "outputs": [],
   "source": [
    "import random\n",
    "\n",
    "def ordered_real_number_pair(lower_bound=-100, upper_bound=100):\n",
    "    return tuple(sorted(random.uniform(lower_bound, upper_bound) for _ in range(2)))\n",
    "\n",
    "# ordered_real_number_pair()"
   ]
  },
  {
   "cell_type": "code",
   "execution_count": 57,
   "metadata": {},
   "outputs": [
    {
     "name": "stdout",
     "output_type": "stream",
     "text": [
      "Order preserved for x: x + 1\n",
      "True\n",
      "Order preserved for x: x\n",
      "True\n",
      "Order not preserved for x: -x with -95.98341855406183 and 36.579541649925744; 95.98341855406183 > -36.579541649925744\n",
      "False\n",
      "Order preserved for x: x - 1\n",
      "True\n",
      "Order preserved for x: x * 2\n",
      "True\n",
      "Order preserved for x: x / 2\n",
      "True\n",
      "Order not preserved for x: x ** 2 with -77.40238507397821 and -11.237663009441178; 5991.129215140405 > 126.28506991376256\n",
      "False\n",
      "Order not preserved for x: x % 2 with -6.771219570319403 and 64.97053441422446; 1.2287804296805973 > 0.9705344142244599\n",
      "False\n"
     ]
    }
   ],
   "source": [
    "def functions():\n",
    "    return [\n",
    "        (lambda x: x + 1, r\"x: x + 1\"),\n",
    "        (lambda x: x, r\"x: x\"),\n",
    "        (lambda x: -x, r\"x: -x\"), \n",
    "        (lambda x: x - 1, r\"x: x - 1\"),\n",
    "        (lambda x: x * 2, r\"x: x * 2\"),\n",
    "        (lambda x: x / 2, r\"x: x / 2\"),\n",
    "        (lambda x: x ** 2, r\"x: x ** 2\"),\n",
    "        (lambda x: x % 2, r\"x: x % 2\")\n",
    "    ]\n",
    "\n",
    "def is_order_preserved(f, name, n=1000):\n",
    "    for _ in range(n):\n",
    "        a, b = ordered_real_number_pair()\n",
    "        if f(a) > f(b):\n",
    "            print(f\"Order not preserved for {name} with {a} and {b}; {f(a)} > {f(b)}\")\n",
    "            return False\n",
    "    print(f\"Order preserved for {name}\")\n",
    "    return True\n",
    "\n",
    "for func in functions():\n",
    "    print(is_order_preserved(func[0], func[1]))\n",
    "\n"
   ]
  }
 ],
 "metadata": {
  "kernelspec": {
   "display_name": ".venv",
   "language": "python",
   "name": "python3"
  },
  "language_info": {
   "codemirror_mode": {
    "name": "ipython",
    "version": 3
   },
   "file_extension": ".py",
   "mimetype": "text/x-python",
   "name": "python",
   "nbconvert_exporter": "python",
   "pygments_lexer": "ipython3",
   "version": "3.12.3"
  }
 },
 "nbformat": 4,
 "nbformat_minor": 2
}
